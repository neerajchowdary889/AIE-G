{
  "nbformat": 4,
  "nbformat_minor": 5,
  "metadata": {
    "kernelspec": {
      "name": "python3",
      "display_name": "Python 3",
      "language": "python"
    },
    "language_info": {
      "name": "python",
      "version": "3.6.13",
      "mimetype": "text/x-python",
      "codemirror_mode": {
        "name": "ipython",
        "version": 3
      },
      "pygments_lexer": "ipython3",
      "nbconvert_exporter": "python",
      "file_extension": ".py"
    },
    "colab": {
      "name": "club.ipynb",
      "provenance": []
    }
  },
  "cells": [
    {
      "cell_type": "code",
      "metadata": {
        "trusted": false,
        "id": "ad8c10c4"
      },
      "source": [
        "import numpy as np"
      ],
      "id": "ad8c10c4",
      "execution_count": null,
      "outputs": []
    },
    {
      "cell_type": "code",
      "metadata": {
        "trusted": false,
        "id": "bf33186c",
        "outputId": "5eafcbef-4c24-411c-cf64-787ef25f5cf3"
      },
      "source": [
        "myPythonList = [1,9,8,3]\n",
        "print(myPythonList)"
      ],
      "id": "bf33186c",
      "execution_count": null,
      "outputs": [
        {
          "name": "stdout",
          "output_type": "stream",
          "text": "[1, 9, 8, 3]\n"
        }
      ]
    },
    {
      "cell_type": "code",
      "metadata": {
        "trusted": false,
        "id": "7727225d",
        "outputId": "2add169f-707b-493f-c64c-4a7fb7c39286"
      },
      "source": [
        "numpy_array_from_list = np.array(myPythonList)\n",
        "numpy_array_from_list\n"
      ],
      "id": "7727225d",
      "execution_count": null,
      "outputs": [
        {
          "data": {
            "text/plain": "array([1, 9, 8, 3])"
          },
          "execution_count": 3,
          "metadata": {},
          "output_type": "execute_result"
        }
      ]
    },
    {
      "cell_type": "code",
      "metadata": {
        "trusted": false,
        "id": "4da342b6",
        "outputId": "ecd102bb-be1c-42af-a51a-82c9052749c8"
      },
      "source": [
        "a  = np.array([1,9,8,3])\n",
        "print(a)"
      ],
      "id": "4da342b6",
      "execution_count": null,
      "outputs": [
        {
          "name": "stdout",
          "output_type": "stream",
          "text": "[1 9 8 3]\n"
        }
      ]
    },
    {
      "cell_type": "code",
      "metadata": {
        "trusted": false,
        "id": "38ad03df",
        "outputId": "af5b2b63-95cd-4f3e-b30a-a4979e1683b0"
      },
      "source": [
        "x=numpy_array_from_list + 10\n",
        "print(x)"
      ],
      "id": "38ad03df",
      "execution_count": null,
      "outputs": [
        {
          "name": "stdout",
          "output_type": "stream",
          "text": "[11 19 18 13]\n"
        }
      ]
    },
    {
      "cell_type": "code",
      "metadata": {
        "trusted": false,
        "id": "77ddd68a",
        "outputId": "232b4a3c-5808-4875-8151-9c5123786ebe"
      },
      "source": [
        "a  = np.array([1,2,3])\n",
        "print(a.shape)\n",
        "print(a.dtype)\n"
      ],
      "id": "77ddd68a",
      "execution_count": null,
      "outputs": [
        {
          "name": "stdout",
          "output_type": "stream",
          "text": "(3,)\nint64\n"
        }
      ]
    },
    {
      "cell_type": "code",
      "metadata": {
        "trusted": false,
        "id": "92f16b79",
        "outputId": "9c613f2c-1290-49de-a3d5-d254dc5f2526"
      },
      "source": [
        "#### Different type\n",
        "b  = np.array([1.1,2.0,3.2])\n",
        "print(b.dtype)"
      ],
      "id": "92f16b79",
      "execution_count": null,
      "outputs": [
        {
          "name": "stdout",
          "output_type": "stream",
          "text": "float64\n"
        }
      ]
    },
    {
      "cell_type": "code",
      "metadata": {
        "trusted": false,
        "id": "06595013",
        "outputId": "38221a21-f37f-42b7-f1b2-2647aea16262"
      },
      "source": [
        "### 2 dimension\n",
        "c = np.array([(1,2,3),\n",
        "              (4,5,6)])\n",
        "print(c)"
      ],
      "id": "06595013",
      "execution_count": null,
      "outputs": [
        {
          "name": "stdout",
          "output_type": "stream",
          "text": "[[1 2 3]\n [4 5 6]]\n"
        }
      ]
    },
    {
      "cell_type": "code",
      "metadata": {
        "trusted": false,
        "id": "345bc2ae",
        "outputId": "cfa76467-df88-4901-c56e-262ade2ca5fa"
      },
      "source": [
        "### 3 dimension\n",
        "d = np.array([\n",
        "    [[1, 2,3],\n",
        "        [4, 5, 6]],\n",
        "    [[7, 8,9],\n",
        "        [10, 11, 12]]\n",
        "])\n",
        "print(d.shape)\n",
        "(2, 2, 3)\n",
        "print(d)"
      ],
      "id": "345bc2ae",
      "execution_count": null,
      "outputs": [
        {
          "name": "stdout",
          "output_type": "stream",
          "text": "(2, 2, 3)\n[[[ 1  2  3]\n  [ 4  5  6]]\n\n [[ 7  8  9]\n  [10 11 12]]]\n"
        }
      ]
    },
    {
      "cell_type": "code",
      "metadata": {
        "trusted": false,
        "id": "6e5a9ba6",
        "outputId": "5d8b1d43-22f7-4403-b100-b9853a73bc6e"
      },
      "source": [
        "import numpy as np\n",
        "x=np.zeros((2,2), dtype=np.int16)\n",
        "print(x)"
      ],
      "id": "6e5a9ba6",
      "execution_count": null,
      "outputs": [
        {
          "name": "stdout",
          "output_type": "stream",
          "text": "[[0 0]\n [0 0]]\n"
        }
      ]
    },
    {
      "cell_type": "code",
      "metadata": {
        "trusted": false,
        "id": "57a1dc94",
        "outputId": "ddb06075-9e7a-430a-8d38-2c22b19cc1d2"
      },
      "source": [
        "import numpy as np\n",
        "y=np.ones((1,2,3), dtype=np.int16)\n",
        "print(y.shape)\t\n",
        "print(y)"
      ],
      "id": "57a1dc94",
      "execution_count": null,
      "outputs": [
        {
          "name": "stdout",
          "output_type": "stream",
          "text": "(1, 2, 3)\n[[[1 1 1]\n  [1 1 1]]]\n"
        }
      ]
    },
    {
      "cell_type": "code",
      "metadata": {
        "trusted": false,
        "id": "3aa93bed",
        "outputId": "5564711a-a6e9-4bf3-9113-036ccf7fc2ab"
      },
      "source": [
        "import numpy as np\n",
        "e  = np.array([(1,2,3), (4,5,6)])\n",
        "print(e)\n",
        "e.reshape(3,2)"
      ],
      "id": "3aa93bed",
      "execution_count": null,
      "outputs": [
        {
          "name": "stdout",
          "output_type": "stream",
          "text": "[[1 2 3]\n [4 5 6]]\n"
        },
        {
          "data": {
            "text/plain": "array([[1, 2],\n       [3, 4],\n       [5, 6]])"
          },
          "execution_count": 12,
          "metadata": {},
          "output_type": "execute_result"
        }
      ]
    },
    {
      "cell_type": "code",
      "metadata": {
        "trusted": false,
        "id": "0a9801a5",
        "outputId": "4e6da121-77a0-4fa9-e180-d9197b350216"
      },
      "source": [
        "e.flatten()\n"
      ],
      "id": "0a9801a5",
      "execution_count": null,
      "outputs": [
        {
          "data": {
            "text/plain": "array([1, 2, 3, 4, 5, 6])"
          },
          "execution_count": 13,
          "metadata": {},
          "output_type": "execute_result"
        }
      ]
    },
    {
      "cell_type": "code",
      "metadata": {
        "trusted": false,
        "id": "ea947dcf",
        "outputId": "9e9f74fb-c474-4645-d174-babdcd010720"
      },
      "source": [
        "## Horitzontal Stack\n",
        "import numpy as np\n",
        "f = np.array([1,2,3])\n",
        "g = np.array([4,5,6])\n",
        "\n",
        "print('Horizontal Append:', np.hstack((f, g)))"
      ],
      "id": "ea947dcf",
      "execution_count": null,
      "outputs": [
        {
          "name": "stdout",
          "output_type": "stream",
          "text": "Horizontal Append: [1 2 3 4 5 6]\n"
        }
      ]
    },
    {
      "cell_type": "code",
      "metadata": {
        "trusted": false,
        "id": "fd48679a",
        "outputId": "8bb945be-b1cb-4611-a5d9-f1282d1d00a9"
      },
      "source": [
        "## Vertical Stack\n",
        "import numpy as np\n",
        "f = np.array([1,2,3])\n",
        "g = np.array([4,5,6])\n",
        "\n",
        "print('Vertical Append:', np.vstack((f, g)))"
      ],
      "id": "fd48679a",
      "execution_count": null,
      "outputs": [
        {
          "name": "stdout",
          "output_type": "stream",
          "text": "Vertical Append: [[1 2 3]\n [4 5 6]]\n"
        }
      ]
    },
    {
      "cell_type": "code",
      "metadata": {
        "trusted": false,
        "id": "199829ed",
        "outputId": "45a6640e-eac8-416b-e33f-cd21d3d1361a"
      },
      "source": [
        "## Generate random nmber from normal distribution\n",
        "normal_array = np.random.normal(5, 0.5, 10)\n",
        "print(normal_array)\t\t\t\n"
      ],
      "id": "199829ed",
      "execution_count": null,
      "outputs": [
        {
          "name": "stdout",
          "output_type": "stream",
          "text": "[5.26857818 4.08331211 4.93464732 5.23358022 5.69064506 5.40321734\n 4.89438118 5.86704765 4.74514979 5.70491739]\n"
        }
      ]
    },
    {
      "cell_type": "code",
      "metadata": {
        "trusted": false,
        "id": "74f6a00b",
        "outputId": "ceb0fb17-6de1-40c3-ae13-60828980b038"
      },
      "source": [
        "A = np.matrix(np.ones((4,4)))\t\t\n",
        "print(A)"
      ],
      "id": "74f6a00b",
      "execution_count": null,
      "outputs": [
        {
          "name": "stdout",
          "output_type": "stream",
          "text": "[[1. 1. 1. 1.]\n [1. 1. 1. 1.]\n [1. 1. 1. 1.]\n [1. 1. 1. 1.]]\n"
        }
      ]
    },
    {
      "cell_type": "code",
      "metadata": {
        "trusted": false,
        "id": "5464ae20",
        "outputId": "5cff50ec-e96c-4daf-89e1-b37c0f99e103"
      },
      "source": [
        "np.asarray(A)[2]=2\n",
        "print(A)"
      ],
      "id": "5464ae20",
      "execution_count": null,
      "outputs": [
        {
          "name": "stdout",
          "output_type": "stream",
          "text": "[[1. 1. 1. 1.]\n [1. 1. 1. 1.]\n [2. 2. 2. 2.]\n [1. 1. 1. 1.]]\n"
        }
      ]
    },
    {
      "cell_type": "code",
      "metadata": {
        "trusted": false,
        "id": "79651fa2",
        "outputId": "3e35c3dd-2f68-4b46-8c05-076b86c7ffa1"
      },
      "source": [
        "np.arange(1, 11)\t"
      ],
      "id": "79651fa2",
      "execution_count": null,
      "outputs": [
        {
          "data": {
            "text/plain": "array([ 1,  2,  3,  4,  5,  6,  7,  8,  9, 10])"
          },
          "execution_count": 19,
          "metadata": {},
          "output_type": "execute_result"
        }
      ]
    },
    {
      "cell_type": "code",
      "metadata": {
        "trusted": false,
        "id": "b677bdfe",
        "outputId": "3c9269de-3fa4-4cfd-9683-d3523a99cc5e"
      },
      "source": [
        "np.arange(1, 14, 4)\t"
      ],
      "id": "b677bdfe",
      "execution_count": null,
      "outputs": [
        {
          "data": {
            "text/plain": "array([ 1,  5,  9, 13])"
          },
          "execution_count": 20,
          "metadata": {},
          "output_type": "execute_result"
        }
      ]
    },
    {
      "cell_type": "code",
      "metadata": {
        "trusted": false,
        "id": "4d63a09f",
        "outputId": "973988eb-5a0c-405d-cf4f-958defa10b9f"
      },
      "source": [
        "import numpy as np\n",
        "np.linspace(1.0, 10.0, num=20)\n"
      ],
      "id": "4d63a09f",
      "execution_count": null,
      "outputs": [
        {
          "data": {
            "text/plain": "array([ 1.        ,  1.47368421,  1.94736842,  2.42105263,  2.89473684,\n        3.36842105,  3.84210526,  4.31578947,  4.78947368,  5.26315789,\n        5.73684211,  6.21052632,  6.68421053,  7.15789474,  7.63157895,\n        8.10526316,  8.57894737,  9.05263158,  9.52631579, 10.        ])"
          },
          "execution_count": 21,
          "metadata": {},
          "output_type": "execute_result"
        }
      ]
    },
    {
      "cell_type": "code",
      "metadata": {
        "trusted": false,
        "id": "eb7aecb6",
        "outputId": "39d861ce-4a7f-4058-9b0b-af65e0363540"
      },
      "source": [
        "np.linspace(1.0, 5.0, num=5, endpoint=False)"
      ],
      "id": "eb7aecb6",
      "execution_count": null,
      "outputs": [
        {
          "data": {
            "text/plain": "array([1. , 1.8, 2.6, 3.4, 4.2])"
          },
          "execution_count": 22,
          "metadata": {},
          "output_type": "execute_result"
        }
      ]
    },
    {
      "cell_type": "code",
      "metadata": {
        "trusted": false,
        "id": "ca8e189b",
        "outputId": "b32e249f-c543-4668-99f7-8b16415e66ad"
      },
      "source": [
        "np.logspace(3.0, 4.0, num=4)"
      ],
      "id": "ca8e189b",
      "execution_count": null,
      "outputs": [
        {
          "data": {
            "text/plain": "array([ 1000.        ,  2154.43469003,  4641.58883361, 10000.        ])"
          },
          "execution_count": 23,
          "metadata": {},
          "output_type": "execute_result"
        }
      ]
    },
    {
      "cell_type": "code",
      "metadata": {
        "trusted": false,
        "id": "8c44c140",
        "outputId": "c5b872b2-749d-44bc-c93b-9f3037311aac"
      },
      "source": [
        "x = np.array([1,2,3], dtype=np.complex128)\n",
        "x.itemsize\t"
      ],
      "id": "8c44c140",
      "execution_count": null,
      "outputs": [
        {
          "data": {
            "text/plain": "16"
          },
          "execution_count": 24,
          "metadata": {},
          "output_type": "execute_result"
        }
      ]
    },
    {
      "cell_type": "code",
      "metadata": {
        "trusted": false,
        "id": "159402c9",
        "outputId": "686e72a0-a5e8-4a4d-e35b-0ba70034c354"
      },
      "source": [
        "## Slice\n",
        "import numpy as np\n",
        "e  = np.array([(4,5,6), (7,8,9)])\n",
        "print(e)\n"
      ],
      "id": "159402c9",
      "execution_count": null,
      "outputs": [
        {
          "name": "stdout",
          "output_type": "stream",
          "text": "[[4 5 6]\n [7 8 9]]\n"
        }
      ]
    },
    {
      "cell_type": "code",
      "metadata": {
        "trusted": false,
        "id": "9d2eb707",
        "outputId": "70f99fb8-a375-482c-ccd9-f50535082a92"
      },
      "source": [
        "## First column\n",
        "print('First row:', e[0])\n",
        "\n",
        "## Second col\n",
        "print('Second row:', e[1])"
      ],
      "id": "9d2eb707",
      "execution_count": null,
      "outputs": [
        {
          "name": "stdout",
          "output_type": "stream",
          "text": "First row: [4 5 6]\nSecond row: [7 8 9]\n"
        }
      ]
    },
    {
      "cell_type": "code",
      "metadata": {
        "trusted": false,
        "id": "b4881358",
        "outputId": "3592f1c4-bd0b-45d0-d05f-c6f52bb3e548"
      },
      "source": [
        "print('Second column:', e[:,1])\t"
      ],
      "id": "b4881358",
      "execution_count": null,
      "outputs": [
        {
          "name": "stdout",
          "output_type": "stream",
          "text": "Second column: [5 8]\n"
        }
      ]
    },
    {
      "cell_type": "code",
      "metadata": {
        "trusted": false,
        "id": "76d23a03",
        "outputId": "4bc7e58c-12ab-457d-a176-3a3b74d163ed"
      },
      "source": [
        "## Second Row, two values\n",
        "print(e[1, :2])"
      ],
      "id": "76d23a03",
      "execution_count": null,
      "outputs": [
        {
          "name": "stdout",
          "output_type": "stream",
          "text": "[7 8]\n"
        }
      ]
    },
    {
      "cell_type": "code",
      "metadata": {
        "trusted": false,
        "id": "3f636b6a",
        "outputId": "95632a72-c3f4-401c-ee39-62440b513c99"
      },
      "source": [
        "#Second column 2 values\n",
        "print(e[:2,1])"
      ],
      "id": "3f636b6a",
      "execution_count": null,
      "outputs": [
        {
          "name": "stdout",
          "output_type": "stream",
          "text": "[5 8]\n"
        }
      ]
    },
    {
      "cell_type": "code",
      "metadata": {
        "trusted": false,
        "id": "0634caf5",
        "outputId": "a6efe30f-474b-4936-d099-7b1680dd1dc9"
      },
      "source": [
        "import numpy as np\n",
        "normal_array = np.random.normal(5, 0.5, 10)\n",
        "print(normal_array)\t"
      ],
      "id": "0634caf5",
      "execution_count": null,
      "outputs": [
        {
          "name": "stdout",
          "output_type": "stream",
          "text": "[5.81838101 5.7165292  5.52759818 5.02827147 5.60862873 4.40137324\n 4.92277897 5.38988724 4.76215278 4.50678734]\n"
        }
      ]
    },
    {
      "cell_type": "code",
      "metadata": {
        "trusted": false,
        "id": "e521d813",
        "outputId": "58ba0604-9d58-4a15-ef92-0d90fe7d3602"
      },
      "source": [
        "### Min \n",
        "print(np.min(normal_array))\n",
        "\n",
        "### Max \n",
        "print(np.max(normal_array))\n",
        "\n",
        "### Mean \n",
        "print(np.mean(normal_array))\n",
        "\n",
        "### Median\n",
        "print(np.median(normal_array))\n",
        "\n",
        "### Sd\n",
        "print(np.std(normal_array))"
      ],
      "id": "e521d813",
      "execution_count": null,
      "outputs": [
        {
          "name": "stdout",
          "output_type": "stream",
          "text": "4.401373235587653\n5.8183810093892365\n5.168238814542006\n5.209079353093663\n0.48640166665779133\n"
        }
      ]
    },
    {
      "cell_type": "code",
      "metadata": {
        "trusted": false,
        "id": "7c1ae0e0",
        "outputId": "66977f7a-5d20-457c-fa67-b9fb15fb84ab"
      },
      "source": [
        "## Linear algebra\n",
        "### Dot product: product of two arrays\n",
        "f = np.array([1,2])\n",
        "g = np.array([4,5])\n",
        "### 1*4+2*5\n",
        "np.dot(f, g)"
      ],
      "id": "7c1ae0e0",
      "execution_count": null,
      "outputs": [
        {
          "data": {
            "text/plain": "14"
          },
          "execution_count": 32,
          "metadata": {},
          "output_type": "execute_result"
        }
      ]
    },
    {
      "cell_type": "code",
      "metadata": {
        "trusted": false,
        "id": "2f9df9fb",
        "outputId": "8706a1e1-2743-43d6-c26f-b268790b7e60"
      },
      "source": [
        "### Matmul: matruc product of two arrays\n",
        "h = [[1,2],[3,4]] \n",
        "i = [[5,6],[7,8]] \n",
        "### 1*5+2*7 = 19\n",
        "np.matmul(h, i)"
      ],
      "id": "2f9df9fb",
      "execution_count": null,
      "outputs": [
        {
          "data": {
            "text/plain": "array([[19, 22],\n       [43, 50]])"
          },
          "execution_count": 33,
          "metadata": {},
          "output_type": "execute_result"
        }
      ]
    },
    {
      "cell_type": "code",
      "metadata": {
        "trusted": false,
        "id": "7268a120",
        "outputId": "d420321b-11c4-4d1b-fb91-a7f4d9161b4d"
      },
      "source": [
        "# Taking a 3 * 3 matrix\n",
        "A = np.array([[6, 1, 1],\n",
        "              [4, -2, 5],\n",
        "              [2, 8, 7]])\n",
        "  \n",
        "# Calculating the inverse of the matrix\n",
        "print(np.linalg.inv(A))"
      ],
      "id": "7268a120",
      "execution_count": null,
      "outputs": [
        {
          "name": "stdout",
          "output_type": "stream",
          "text": "[[ 0.17647059 -0.00326797 -0.02287582]\n [ 0.05882353 -0.13071895  0.08496732]\n [-0.11764706  0.1503268   0.05228758]]\n"
        }
      ]
    },
    {
      "cell_type": "code",
      "metadata": {
        "trusted": false,
        "id": "1e56b9d8",
        "outputId": "c262b8cd-c8a1-4897-917b-850ec3f0d8ce"
      },
      "source": [
        "# creating a 2X2 Numpy matrix\n",
        "n_array = np.array([[50, 29], [30, 44]])\n",
        "  \n",
        "# Displaying the Matrix\n",
        "print(\"Numpy Matrix is:\")\n",
        "print(n_array)\n",
        "  \n",
        "# calculating the determinant of matrix\n",
        "det = np.linalg.det(n_array)\n",
        "  \n",
        "print(\"\\nDeterminant of given 2X2 matrix:\")\n",
        "print(int(det))"
      ],
      "id": "1e56b9d8",
      "execution_count": null,
      "outputs": [
        {
          "name": "stdout",
          "output_type": "stream",
          "text": "Numpy Matrix is:\n[[50 29]\n [30 44]]\n\nDeterminant of given 2X2 matrix:\n1330\n"
        }
      ]
    },
    {
      "cell_type": "code",
      "metadata": {
        "trusted": false,
        "id": "c3ee2948",
        "outputId": "89ae47ce-b4c4-414c-a85c-d0311669327a"
      },
      "source": [
        "# Let's create a square matrix (NxN matrix)\n",
        "mx = np.array([[1,1,1],[0,1,2],[1,5,3]])\n",
        "\n",
        "# Let's get rank of matrix \n",
        "np.linalg.matrix_rank(mx)\n"
      ],
      "id": "c3ee2948",
      "execution_count": null,
      "outputs": [
        {
          "data": {
            "text/plain": "3"
          },
          "execution_count": 36,
          "metadata": {},
          "output_type": "execute_result"
        }
      ]
    },
    {
      "cell_type": "code",
      "metadata": {
        "trusted": false,
        "id": "a9e57058",
        "outputId": "c2b7e07b-ac3a-4e70-b41e-f68fe2a8db9f"
      },
      "source": [
        "example_matrix = np.array([\n",
        "  [1,2,3,4],\n",
        "  [5,6,7,8],\n",
        "  [9,10,11,12],\n",
        "  [13,14,15,16]\n",
        "])\n",
        "eigenvalues, eigenvectors = np.linalg.eig(example_matrix)\n",
        "print(eigenvalues, eigenvectors)"
      ],
      "id": "a9e57058",
      "execution_count": null,
      "outputs": [
        {
          "name": "stdout",
          "output_type": "stream",
          "text": "[ 3.62093727e+01 -2.20937271e+00 -2.62410379e-15 -9.51420961e-17] [[-0.15115432 -0.72704996 -0.47688035 -0.07702174]\n [-0.34923733 -0.28320876  0.83665151 -0.30149603]\n [-0.54732033  0.16063243 -0.24266197  0.83405728]\n [-0.74540333  0.60447363 -0.11710919 -0.45553951]]\n"
        }
      ]
    },
    {
      "cell_type": "code",
      "metadata": {
        "trusted": false,
        "id": "6b330838",
        "outputId": "7ebeb04b-877a-4469-fbdf-d4141e13352e"
      },
      "source": [
        "# make matrix with numpy\n",
        "gfg = np.matrix('[6, 2; 3, 4]')\n",
        "         \n",
        "# applying matrix.diagonal() method\n",
        "diag = gfg.diagonal()\n",
        "   \n",
        "print(diag)"
      ],
      "id": "6b330838",
      "execution_count": null,
      "outputs": [
        {
          "name": "stdout",
          "output_type": "stream",
          "text": "[[6 4]]\n"
        }
      ]
    },
    {
      "cell_type": "code",
      "metadata": {
        "trusted": false,
        "id": "976500b9",
        "outputId": "a5bb4b35-b48a-422c-aaca-0e836853cab2"
      },
      "source": [
        "# make matrix with numpy\n",
        "gfg = np.matrix('[4, 1; 12, 3]')\n",
        "              \n",
        "# applying matrix.transpose() method\n",
        "trans = gfg.transpose()\n",
        "    \n",
        "print(trans)"
      ],
      "id": "976500b9",
      "execution_count": null,
      "outputs": [
        {
          "name": "stdout",
          "output_type": "stream",
          "text": "[[ 4 12]\n [ 1  3]]\n"
        }
      ]
    },
    {
      "cell_type": "code",
      "metadata": {
        "trusted": false,
        "id": "c3cd2355",
        "outputId": "e8563773-0601-4c50-b942-e1f61b661cb3"
      },
      "source": [
        "# make matrix with numpy\n",
        "gfg = np.matrix('[4, 1; 12, 3]')\n",
        "              \n",
        "# applying matrix.trace() method\n",
        "tracem = gfg.trace()\n",
        "    \n",
        "print(tracem)"
      ],
      "id": "c3cd2355",
      "execution_count": null,
      "outputs": [
        {
          "name": "stdout",
          "output_type": "stream",
          "text": "[[7]]\n"
        }
      ]
    },
    {
      "cell_type": "code",
      "metadata": {
        "trusted": false,
        "id": "3c30eba2"
      },
      "source": [
        ""
      ],
      "id": "3c30eba2",
      "execution_count": null,
      "outputs": []
    }
  ]
}